{
 "cells": [
  {
   "cell_type": "code",
   "execution_count": 1,
   "metadata": {},
   "outputs": [
    {
     "data": {
      "text/plain": [
       "R version 3.5.1 (2018-07-02)\n",
       "Platform: x86_64-w64-mingw32/x64 (64-bit)\n",
       "Running under: Windows 10 x64 (build 17134)\n",
       "\n",
       "Matrix products: default\n",
       "\n",
       "locale:\n",
       "[1] LC_COLLATE=English_United States.1252 \n",
       "[2] LC_CTYPE=English_United States.1252   \n",
       "[3] LC_MONETARY=English_United States.1252\n",
       "[4] LC_NUMERIC=C                          \n",
       "[5] LC_TIME=English_United States.1252    \n",
       "\n",
       "attached base packages:\n",
       "[1] stats     graphics  grDevices utils     datasets  methods   base     \n",
       "\n",
       "other attached packages:\n",
       "[1] RevoUtils_11.0.1     RevoUtilsMath_11.0.0\n",
       "\n",
       "loaded via a namespace (and not attached):\n",
       " [1] Rcpp_0.12.18         digest_0.6.15        crayon_1.3.4        \n",
       " [4] IRdisplay_0.5.0      repr_0.15.0          jsonlite_1.5        \n",
       " [7] magrittr_1.5         evaluate_0.11        stringi_1.1.7       \n",
       "[10] uuid_0.1-2           IRkernel_0.8.12.9000 tools_3.5.1         \n",
       "[13] stringr_1.3.1        compiler_3.5.1       base64enc_0.1-3     \n",
       "[16] pbdZMQ_0.3-3         htmltools_0.3.6     "
      ]
     },
     "metadata": {},
     "output_type": "display_data"
    }
   ],
   "source": [
    "sessionInfo()"
   ]
  },
  {
   "cell_type": "markdown",
   "metadata": {},
   "source": [
    "# Loading data"
   ]
  },
  {
   "cell_type": "code",
   "execution_count": 2,
   "metadata": {},
   "outputs": [],
   "source": [
    "geno <-read.table(\"./Hetero_realigned_cov10_filtered3.raw\", row.names=1, header=T)\n",
    "row.names(geno)=1:240\n",
    "x <- as.matrix(geno)-1   \n",
    "pheno <- read.csv(\"./2017heteroPheno.csv\", header=T)\n",
    "attach(pheno)"
   ]
  },
  {
   "cell_type": "markdown",
   "metadata": {},
   "source": [
    "#  The histgram of H. okamotoi count and the transformed data"
   ]
  },
  {
   "cell_type": "code",
   "execution_count": 3,
   "metadata": {},
   "outputs": [
    {
     "data": {
      "image/png": "[encoded data removed]",
      "text/plain": [
       "Plot with title \"Histogram of sqrt(bcw + 1)\""
      ]
     },
     "metadata": {},
     "output_type": "display_data"
    }
   ],
   "source": [
    "#pdf(\"plots.pdf\")\n",
    "par(mfrow=c(1,2),mgp=c(2,1,0),mar=c(3, 3, 3,0 ))\n",
    "nf <- layout(matrix(c(1,2),ncol=2), widths=c(2,2), heights=c(2,2), TRUE)\n",
    "hist(bcw,nclass=50, xlab = \"H. okamotoi count\",col=\"grey\",ylim=c(0,15),cex.axis = 1,cex.lab=1)\n",
    "hist(sqrt(bcw+1),nclass=50,col=\"grey\",ylab=\"\",ylim=c(0,15),cex.axis = 1,xlab = \"Transformed data\",cex.lab=1)\n",
    "#dev.off()"
   ]
  },
  {
   "cell_type": "markdown",
   "metadata": {},
   "source": [
    "# General statistics"
   ]
  },
  {
   "cell_type": "code",
   "execution_count": 4,
   "metadata": {},
   "outputs": [
    {
     "data": {
      "text/plain": [
       "[1] '4.6'"
      ]
     },
     "metadata": {},
     "output_type": "display_data"
    }
   ],
   "source": [
    "library(rrBLUP)\n",
    "packageVersion(\"rrBLUP\")"
   ]
  },
  {
   "cell_type": "code",
   "execution_count": 5,
   "metadata": {},
   "outputs": [
    {
     "data": {
      "text/html": [
       "<table>\n",
       "<thead><tr><th></th><th scope=col>mean</th><th scope=col>sd</th></tr></thead>\n",
       "<tbody>\n",
       "\t<tr><th scope=row>bcw</th><td>15.85417</td><td>9.165128</td></tr>\n",
       "\t<tr><th scope=row>length</th><td>9.832917</td><td>0.779899</td></tr>\n",
       "</tbody>\n",
       "</table>\n"
      ],
      "text/latex": [
       "\\begin{tabular}{r|ll}\n",
       "  & mean & sd\\\\\n",
       "\\hline\n",
       "\tbcw & 15.85417 & 9.165128\\\\\n",
       "\tlength & 9.832917 & 0.779899\\\\\n",
       "\\end{tabular}\n"
      ],
      "text/markdown": [
       "\n",
       "| <!--/--> | mean | sd | \n",
       "|---|---|\n",
       "| bcw | 15.85417 | 9.165128 | \n",
       "| length | 9.832917 | 0.779899 | \n",
       "\n",
       "\n"
      ],
      "text/plain": [
       "       mean     sd      \n",
       "bcw    15.85417 9.165128\n",
       "length 9.832917 0.779899"
      ]
     },
     "metadata": {},
     "output_type": "display_data"
    }
   ],
   "source": [
    "meanSD <- data.frame(bcw,length)\n",
    "as.data.frame( t(sapply(meanSD, function(cl) list(mean=mean(cl,na.rm=TRUE),sd=sd(cl,na.rm=TRUE))) ))"
   ]
  },
  {
   "cell_type": "code",
   "execution_count": 8,
   "metadata": {},
   "outputs": [
    {
     "name": "stdout",
     "output_type": "stream",
     "text": [
      "[1] \"phenotypic correlation 0.162936985198588\"\n"
     ]
    }
   ],
   "source": [
    "print(paste(\"phenotypic correlation\",cor(bcw,length)))"
   ]
  },
  {
   "cell_type": "markdown",
   "metadata": {},
   "source": [
    "# Heritability estimates for H. okamotoi count and body length. "
   ]
  },
  {
   "cell_type": "code",
   "execution_count": 14,
   "metadata": {},
   "outputs": [
    {
     "name": "stdout",
     "output_type": "stream",
     "text": [
      "[1] \"h2_bcw 0.646466246472572\"\n",
      "[1] \"h2_length 0.843382207016187\"\n"
     ]
    }
   ],
   "source": [
    "A <- A.mat(x, n.core=8)\n",
    "data <- data.frame(tbcw=sqrt(pheno$bcw+1),length=pheno$length,gid=1:240,x=x)\n",
    "row.names(A)=1:240;colnames(A)=1:240\n",
    "ans_bcw <- kin.blup(data,geno=\"gid\", pheno=\"tbcw\",K=A)\n",
    "ans_length <- kin.blup(data,geno=\"gid\",pheno=\"length\",K = A)\n",
    "h2_bcw <- ans_bcw$Vg/(ans_bcw$Vg+ans_bcw$Ve)        \n",
    "h2_length <- ans_length$Vg/(ans_length$Vg+ans_length$Ve)\n",
    "print(paste(\"h2_bcw\", h2_bcw))\n",
    "print(paste(\"h2_length\", h2_length))"
   ]
  },
  {
   "cell_type": "markdown",
   "metadata": {},
   "source": [
    "#  Manhattan plots of GWAS study with Bonferroni-corrected significance thresholds"
   ]
  },
  {
   "cell_type": "code",
   "execution_count": 9,
   "metadata": {},
   "outputs": [
    {
     "data": {
      "text/plain": [
       "[1] '4.6'"
      ]
     },
     "metadata": {},
     "output_type": "display_data"
    }
   ],
   "source": [
    "library(rrBLUP)\n",
    "packageVersion(\"rrBLUP\")"
   ]
  },
  {
   "cell_type": "code",
   "execution_count": 15,
   "metadata": {},
   "outputs": [
    {
     "name": "stdout",
     "output_type": "stream",
     "text": [
      "[1] \"GWAS for trait: tbcw\"\n",
      "[1] \"Variance components estimated. Testing markers.\"\n"
     ]
    }
   ],
   "source": [
    "A=A.mat(x)\n",
    "lin_map<-read.table(\"./raw.map\")\n",
    "row.names(A)=1:240;colnames(A)=1:240\n",
    "g <- data.frame(rownames(lin_map),lin_map$V1, lin_map$V2, t(x))\n",
    "rownames(g) <-1:nrow(g)\n",
    "colnames(g) <-c(\"marker\", \"chrom\", \"pos\", rownames(x))\n",
    "bcwframe <-data.frame(1:240, sqrt(pheno$bcw+1))\n",
    "colnames(bcwframe) <-c(\"gid\", \"tbcw\")\n",
    "# perform GWAS with the GWAS function in the rrBLUP package\n",
    "GWAS_bcw <-GWAS(bcwframe, g,K=A, n.PC = 10) "
   ]
  },
  {
   "cell_type": "code",
   "execution_count": 17,
   "metadata": {},
   "outputs": [
    {
     "data": {
      "text/html": [
       "<ol class=list-inline>\n",
       "\t<li>4</li>\n",
       "\t<li>9</li>\n",
       "\t<li>1</li>\n",
       "</ol>\n"
      ],
      "text/latex": [
       "\\begin{enumerate*}\n",
       "\\item 4\n",
       "\\item 9\n",
       "\\item 1\n",
       "\\end{enumerate*}\n"
      ],
      "text/markdown": [
       "1. 4\n",
       "2. 9\n",
       "3. 1\n",
       "\n",
       "\n"
      ],
      "text/plain": [
       "[1] 4 9 1"
      ]
     },
     "metadata": {},
     "output_type": "display_data"
    }
   ],
   "source": [
    "#SNP markers with lowest P-values\n",
    "GWAS_bcw$chrom[head(order(GWAS_bcw$tbcw,decreasing = TRUE),3)]"
   ]
  },
  {
   "cell_type": "code",
   "execution_count": 19,
   "metadata": {},
   "outputs": [
    {
     "data": {
      "text/html": [
       "<ol class=list-inline>\n",
       "\t<li>8994840</li>\n",
       "\t<li>12024615</li>\n",
       "\t<li>13727873</li>\n",
       "</ol>\n"
      ],
      "text/latex": [
       "\\begin{enumerate*}\n",
       "\\item 8994840\n",
       "\\item 12024615\n",
       "\\item 13727873\n",
       "\\end{enumerate*}\n"
      ],
      "text/markdown": [
       "1. 8994840\n",
       "2. 12024615\n",
       "3. 13727873\n",
       "\n",
       "\n"
      ],
      "text/plain": [
       "[1]  8994840 12024615 13727873"
      ]
     },
     "metadata": {},
     "output_type": "display_data"
    }
   ],
   "source": [
    "GWAS_bcw$pos[head(order(GWAS_bcw$tbcw,decreasing = TRUE),3)]"
   ]
  },
  {
   "cell_type": "code",
   "execution_count": 21,
   "metadata": {},
   "outputs": [
    {
     "data": {
      "text/html": [
       "4.89520147477889"
      ],
      "text/latex": [
       "4.89520147477889"
      ],
      "text/markdown": [
       "4.89520147477889"
      ],
      "text/plain": [
       "[1] 4.895201"
      ]
     },
     "metadata": {},
     "output_type": "display_data"
    },
    {
     "data": {
      "image/png": "[encoded data removed]",
      "text/plain": [
       "plot without title"
      ]
     },
     "metadata": {},
     "output_type": "display_data"
    }
   ],
   "source": [
    "#manhatan plot\n",
    "(thred <- -log10(0.05/nrow(g)))\n",
    "cbPalette2 <- c(\"#363636\", \"#E69F00\", \"#56B4E9\", \"#009E73\", \"#0072B2\", \"#D55E00\", \"#CC79A7\",\n",
    "                \"#363636\", \"#E69F00\", \"#56B4E9\", \"#009E73\", \"#0072B2\", \"#D55E00\", \"#CC79A7\",\n",
    "                \"#363636\", \"#E69F00\", \"#56B4E9\", \"#009E73\", \"#0072B2\", \"#D55E00\", \"#CC79A7\",\n",
    "                \"#363636\")\n",
    "\n",
    "plot(GWAS_bcw$tbcw,col=cbPalette2[GWAS_bcw$chrom], pch=19, ylab=\"-log10(P) for H. okamotoi count\",xlab=\"markers\", ylim=c(0,5))\n",
    "abline(h=thred, lty=2,col=\"red\")"
   ]
  }
 ],
 "metadata": {
  "kernelspec": {
   "display_name": "R",
   "language": "R",
   "name": "ir"
  },
  "language_info": {
   "codemirror_mode": "r",
   "file_extension": ".r",
   "mimetype": "text/x-r-source",
   "name": "R",
   "pygments_lexer": "r",
   "version": "3.5.1"
  }
 },
 "nbformat": 4,
 "nbformat_minor": 2
}
