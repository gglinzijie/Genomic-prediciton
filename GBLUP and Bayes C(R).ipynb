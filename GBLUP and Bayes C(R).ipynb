{
 "cells": [
  {
   "cell_type": "markdown",
   "metadata": {},
   "source": [
    "# Platform information"
   ]
  },
  {
   "cell_type": "code",
   "execution_count": 1,
   "metadata": {},
   "outputs": [
    {
     "data": {
      "text/html": [
       "'windows'"
      ],
      "text/latex": [
       "'windows'"
      ],
      "text/markdown": [
       "'windows'"
      ],
      "text/plain": [
       "[1] \"windows\""
      ]
     },
     "metadata": {},
     "output_type": "display_data"
    },
    {
     "data": {
      "text/html": [
       "'R version 3.5.1 (2018-07-02)'"
      ],
      "text/latex": [
       "'R version 3.5.1 (2018-07-02)'"
      ],
      "text/markdown": [
       "'R version 3.5.1 (2018-07-02)'"
      ],
      "text/plain": [
       "[1] \"R version 3.5.1 (2018-07-02)\""
      ]
     },
     "metadata": {},
     "output_type": "display_data"
    },
    {
     "data": {
      "text/html": [
       "'Intel(R) Core(TM) i7-7700HQ CPU @ 2.80GHz'"
      ],
      "text/latex": [
       "'Intel(R) Core(TM) i7-7700HQ CPU @ 2.80GHz'"
      ],
      "text/markdown": [
       "'Intel(R) Core(TM) i7-7700HQ CPU @ 2.80GHz'"
      ],
      "text/plain": [
       "[1] \"Intel(R) Core(TM) i7-7700HQ CPU @ 2.80GHz\""
      ]
     },
     "metadata": {},
     "output_type": "display_data"
    },
    {
     "data": {
      "text/html": [
       "8"
      ],
      "text/latex": [
       "8"
      ],
      "text/markdown": [
       "8"
      ],
      "text/plain": [
       "[1] 8"
      ]
     },
     "metadata": {},
     "output_type": "display_data"
    },
    {
     "data": {
      "text/plain": [
       "8.59 GB"
      ]
     },
     "metadata": {},
     "output_type": "display_data"
    }
   ],
   "source": [
    "library(benchmarkme)\n",
    "get_platform_info()$OS.type\n",
    "get_r_version()$version.string\n",
    "get_cpu()$model_name;get_cpu()$no_of_cores\n",
    "get_ram()"
   ]
  },
  {
   "cell_type": "markdown",
   "metadata": {},
   "source": [
    "# Parallel computation"
   ]
  },
  {
   "cell_type": "code",
   "execution_count": 2,
   "metadata": {},
   "outputs": [
    {
     "name": "stderr",
     "output_type": "stream",
     "text": [
      "Loading required package: foreach\n",
      "Loading required package: iterators\n",
      "Loading required package: parallel\n"
     ]
    }
   ],
   "source": [
    "library(doParallel)\n",
    "library(foreach)\n",
    "cl<-makeCluster(8) "
   ]
  },
  {
   "cell_type": "markdown",
   "metadata": {},
   "source": [
    "# Loading data"
   ]
  },
  {
   "cell_type": "code",
   "execution_count": 6,
   "metadata": {},
   "outputs": [
    {
     "name": "stderr",
     "output_type": "stream",
     "text": [
      "The following objects are masked from pheno (pos = 3):\n",
      "\n",
      "    bcw, gill, i5, i7, length, no, tank, vili, X\n",
      "\n"
     ]
    }
   ],
   "source": [
    "geno <-read.table(\"./Hetero_realigned_cov10_filtered3.raw\", row.names=1, header=T)\n",
    "row.names(geno)=1:240\n",
    "x <- as.matrix(geno)-1   \n",
    "pheno <- read.csv(\"./2017heteroPheno.csv\", header=T)\n",
    "attach(pheno)\n",
    "#tbcw=sqrt(pheno$bcw+1), data normalization\n",
    "data <- data.frame(tbcw=sqrt(pheno$bcw+1),length=pheno$length,gid=1:240)"
   ]
  },
  {
   "cell_type": "markdown",
   "metadata": {},
   "source": [
    "# Parameters for cross validation"
   ]
  },
  {
   "cell_type": "code",
   "execution_count": 12,
   "metadata": {},
   "outputs": [],
   "source": [
    "repeats <- 10\n",
    "n.fold <- 5 \n",
    "n.sample <- length(pheno$bcw)    \n",
    "CM<-7"
   ]
  },
  {
   "cell_type": "markdown",
   "metadata": {},
   "source": [
    "# GBLUP"
   ]
  },
  {
   "cell_type": "code",
   "execution_count": 13,
   "metadata": {},
   "outputs": [
    {
     "data": {
      "text/plain": [
       "[1] '4.6'"
      ]
     },
     "metadata": {},
     "output_type": "display_data"
    }
   ],
   "source": [
    "library(rrBLUP)\n",
    "packageVersion(\"rrBLUP\")"
   ]
  },
  {
   "cell_type": "code",
   "execution_count": 14,
   "metadata": {},
   "outputs": [],
   "source": [
    "#relationship matrix (Endelman at al. 2011)\n",
    "A <- A.mat(x, n.core=8)\n",
    "row.names(A)=1:240;colnames(A)=1:240"
   ]
  },
  {
   "cell_type": "code",
   "execution_count": 19,
   "metadata": {},
   "outputs": [
    {
     "data": {
      "text/plain": [
       "   user  system elapsed \n",
       "   0.19    0.11    0.78 "
      ]
     },
     "metadata": {},
     "output_type": "display_data"
    }
   ],
   "source": [
    "registerDoParallel(cl)\n",
    "system.time({\n",
    "GBLUP<-foreach(j=1:repeats,.combine = \"rbind\") %do% {\n",
    "        set.seed(100+3*j+1)\n",
    "        id <- sample(1:n.sample %% n.fold) + 1 \n",
    "        foreach(i=1:n.fold,.packages=\"rrBLUP\") %dopar% {\n",
    "         bcw_test <- data\n",
    "         bcw_test$tbcw[id == i] <- NA\n",
    "         res <- kin.blup(bcw_test, K=A, geno=\"gid\", pheno=\"tbcw\")\n",
    "         cor(data$tbcw[id==i],res$pred[id==i])\n",
    "    }\n",
    "   }\n",
    "})\n",
    "stopImplicitCluster()"
   ]
  },
  {
   "cell_type": "markdown",
   "metadata": {},
   "source": [
    "# Bayes C"
   ]
  },
  {
   "cell_type": "code",
   "execution_count": 22,
   "metadata": {},
   "outputs": [
    {
     "data": {
      "text/plain": [
       "[1] '1.0.5'"
      ]
     },
     "metadata": {},
     "output_type": "display_data"
    }
   ],
   "source": [
    "library(\"BGLR\")\n",
    "packageVersion(\"BGLR\")"
   ]
  },
  {
   "cell_type": "code",
   "execution_count": 28,
   "metadata": {},
   "outputs": [
    {
     "data": {
      "text/plain": [
       "   user  system elapsed \n",
       "   0.74    1.16   66.81 "
      ]
     },
     "metadata": {},
     "output_type": "display_data"
    }
   ],
   "source": [
    "registerDoParallel(cl)\n",
    "system.time({\n",
    "BC <- foreach(j=1:repeats,.combine = \"rbind\") %do% {\n",
    "        set.seed(100+3*j+1)\n",
    "        id <- sample(1:n.sample %% n.fold) + 1 \n",
    "        foreach(i=1:n.fold,.packages=\"BGLR\") %dopar% {\n",
    "         bcw_test <- data\n",
    "         bcw_test$tbcw[id == i] <- NA\n",
    "         fmBC=BGLR(y=bcw_test$tbcw,ETA=list(list(X=x,model='BayesC')),nIter=2000,burnIn=1000)\n",
    "         cor(data$tbcw[id == i],fmBC$yHat[id == i])\n",
    "         }  \n",
    "    }\n",
    "})\n",
    "stopImplicitCluster()  "
   ]
  },
  {
   "cell_type": "code",
   "execution_count": 39,
   "metadata": {},
   "outputs": [],
   "source": [
    "#Save result\n",
    "Acc<-data.frame(unlist(GBLUP),unlist(BC))\n",
    "colnames(Acc)<-c(\"GBLUP\",\"BC\")\n",
    "library(\"xlsx\")\n",
    "write.xlsx(Acc, \"All_models_Acc.xlsx\") "
   ]
  },
  {
   "cell_type": "markdown",
   "metadata": {},
   "source": [
    "# Comparision "
   ]
  },
  {
   "cell_type": "code",
   "execution_count": 43,
   "metadata": {
    "scrolled": true
   },
   "outputs": [],
   "source": [
    "#Load data(from this page and deep learning models)\n",
    "library(\"readxl\")\n",
    "data<-read_excel(\"All_models_Acc.xlsx\")\n",
    "Acc_all<-subset(data,select = - c(X__1))"
   ]
  },
  {
   "cell_type": "code",
   "execution_count": 44,
   "metadata": {},
   "outputs": [
    {
     "data": {
      "text/html": [
       "<dl class=dl-horizontal>\n",
       "\t<dt>GBLUP</dt>\n",
       "\t\t<dd>0.284</dd>\n",
       "\t<dt>BC</dt>\n",
       "\t\t<dd>0.287</dd>\n",
       "\t<dt>NN</dt>\n",
       "\t\t<dd>0.3</dd>\n",
       "\t<dt>MNN</dt>\n",
       "\t\t<dd>0.307</dd>\n",
       "</dl>\n"
      ],
      "text/latex": [
       "\\begin{description*}\n",
       "\\item[GBLUP] 0.284\n",
       "\\item[BC] 0.287\n",
       "\\item[NN] 0.3\n",
       "\\item[MNN] 0.307\n",
       "\\end{description*}\n"
      ],
      "text/markdown": [
       "GBLUP\n",
       ":   0.284BC\n",
       ":   0.287NN\n",
       ":   0.3MNN\n",
       ":   0.307\n",
       "\n"
      ],
      "text/plain": [
       "GBLUP    BC    NN   MNN \n",
       "0.284 0.287 0.300 0.307 "
      ]
     },
     "metadata": {},
     "output_type": "display_data"
    }
   ],
   "source": [
    "(Acc_mean<-sapply(Acc_all,function(x) round(mean(x),digits = 3)))"
   ]
  },
  {
   "cell_type": "code",
   "execution_count": 45,
   "metadata": {
    "scrolled": false
   },
   "outputs": [
    {
     "data": {
      "text/html": [
       "<dl class=dl-horizontal>\n",
       "\t<dt>GBLUP</dt>\n",
       "\t\t<dd>0.017</dd>\n",
       "\t<dt>BC</dt>\n",
       "\t\t<dd>0.016</dd>\n",
       "\t<dt>NN</dt>\n",
       "\t\t<dd>0.015</dd>\n",
       "\t<dt>MNN</dt>\n",
       "\t\t<dd>0.016</dd>\n",
       "</dl>\n"
      ],
      "text/latex": [
       "\\begin{description*}\n",
       "\\item[GBLUP] 0.017\n",
       "\\item[BC] 0.016\n",
       "\\item[NN] 0.015\n",
       "\\item[MNN] 0.016\n",
       "\\end{description*}\n"
      ],
      "text/markdown": [
       "GBLUP\n",
       ":   0.017BC\n",
       ":   0.016NN\n",
       ":   0.015MNN\n",
       ":   0.016\n",
       "\n"
      ],
      "text/plain": [
       "GBLUP    BC    NN   MNN \n",
       "0.017 0.016 0.015 0.016 "
      ]
     },
     "metadata": {},
     "output_type": "display_data"
    }
   ],
   "source": [
    "(Acc_SE<-sapply(Acc_all,function(x) round(sd(x)/sqrt(repeats*n.fold),digits = 3)))"
   ]
  }
 ],
 "metadata": {
  "kernelspec": {
   "display_name": "R",
   "language": "R",
   "name": "ir"
  },
  "language_info": {
   "codemirror_mode": "r",
   "file_extension": ".r",
   "mimetype": "text/x-r-source",
   "name": "R",
   "pygments_lexer": "r",
   "version": "3.5.1"
  }
 },
 "nbformat": 4,
 "nbformat_minor": 2
}
